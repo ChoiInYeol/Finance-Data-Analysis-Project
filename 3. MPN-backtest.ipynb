{
 "cells": [
  {
   "cell_type": "code",
   "execution_count": null,
   "metadata": {},
   "outputs": [],
   "source": []
  }
 ],
 "metadata": {
  "kernelspec": {
   "display_name": "finance",
   "language": "python",
   "name": "python3"
  },
  "language_info": {
   "name": "python",
   "version": "3.10.9 (tags/v3.10.9:1dd9be6, Dec  6 2022, 20:01:21) [MSC v.1934 64 bit (AMD64)]"
  },
  "orig_nbformat": 4,
  "vscode": {
   "interpreter": {
    "hash": "cf4229302c363533650555c43929078c058934d42fe5f114f3ba6656d2da3d5a"
   }
  }
 },
 "nbformat": 4,
 "nbformat_minor": 2
}
